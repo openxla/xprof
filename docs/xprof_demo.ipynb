{
  "cells": [
    {
      "metadata": {
        "id": "54kErBXYL_t5"
      },
      "cell_type": "markdown",
      "source": [
        "# XProf Demo\n",
        "[![Open in Colab](https://colab.research.google.com/assets/colab-badge.svg)][xprof-demo]\n",
        "\n",
        "[xprof-demo]: https://colab.research.google.com/github/openxla/xprof/blob/master/docs/xprof_demo.ipynb"
      ]
    },
    {
      "metadata": {
        "id": "KvFO8vdBMKOB"
      },
      "cell_type": "markdown",
      "source": [
        "This is a simple demonstration of XProf's capabilites, on an example training workload running on Cloud TPUs."
      ]
    },
    {
      "metadata": {
        "id": "UouZW4zcr7sY"
      },
      "cell_type": "code",
      "source": [
        "# Install the stable version of the profiler plugin\n",
        "!pip install -U tensorboard_plugin_profile"
      ],
      "outputs": [],
      "execution_count": null
    },
    {
      "metadata": {
        "id": "6GEXDNysnvUf"
      },
      "cell_type": "code",
      "source": [
        "# Update protobuf version in the environment\n",
        "!pip install -U protobuf"
      ],
      "outputs": [],
      "execution_count": null
    },
    {
      "metadata": {
        "id": "u6LAn2_VEysw"
      },
      "cell_type": "code",
      "source": [
        "# git clone the xprof repo so we have access to the demo data there\n",
        "!git clone http://github.com/openxla/xprof"
      ],
      "outputs": [],
      "execution_count": null
    },
    {
      "metadata": {
        "id": "talMdGsuEoGm"
      },
      "cell_type": "code",
      "source": [
        "# Load the TensorBoard notebook extension.\n",
        "%load_ext tensorboard"
      ],
      "outputs": [],
      "execution_count": null
    },
    {
      "metadata": {
        "id": "6vSJOEThEoNY"
      },
      "cell_type": "code",
      "source": [
        "# Launch TensorBoard and navigate to the Profile tab to view performance profile\n",
        "%tensorboard --logdir=xprof/demo"
      ],
      "outputs": [],
      "execution_count": null
    },
    {
      "metadata": {
        "id": "BKcLu97YMV6x"
      },
      "cell_type": "markdown",
      "source": [
        "Once tensorboard loads the profile data, use the _Tools_ dropdown to select the tool you want to explore. Please see the tool-specific documentation pages for explanations of each tool's outputs."
      ]
    }
  ],
  "metadata": {
    "colab": {
      "provenance": []
    },
    "kernelspec": {
      "name": "python3",
      "display_name": "Python 3"
    },
    "language_info": {
      "name": "python"
    }
  },
  "nbformat": 4,
  "nbformat_minor": 0
}
